{
 "cells": [
  {
   "cell_type": "code",
   "execution_count": 20,
   "metadata": {},
   "outputs": [],
   "source": [
    "import warnings\n",
    "warnings.filterwarnings('ignore')\n",
    "import pandas as pd\n",
    "import math\n",
    "from sklearn.cross_validation import KFold\n",
    "from sklearn.model_selection import train_test_split\n",
    "import numpy as np\n",
    "from sklearn.model_selection import RandomizedSearchCV,train_test_split,GridSearchCV\n",
    "from sklearn.tree import DecisionTreeClassifier\n",
    "from sklearn.ensemble import AdaBoostClassifier\n",
    "from xgboost.sklearn import XGBClassifier"
   ]
  },
  {
   "cell_type": "code",
   "execution_count": 3,
   "metadata": {},
   "outputs": [],
   "source": [
    "datafile_train=r'C:\\Users\\sujith\\Desktop\\Project\\p2\\carvan_train.csv'\n",
    "datafile_test=r'C:\\Users\\sujith\\Desktop\\Project\\p2\\carvan_test.csv'\n",
    "ca_train=pd.read_csv(datafile_train)\n",
    "ca_test=pd.read_csv(datafile_test)"
   ]
  },
  {
   "cell_type": "code",
   "execution_count": 5,
   "metadata": {},
   "outputs": [
    {
     "data": {
      "text/plain": [
       "V1     int64\n",
       "V2     int64\n",
       "V3     int64\n",
       "V4     int64\n",
       "V5     int64\n",
       "V6     int64\n",
       "V7     int64\n",
       "V8     int64\n",
       "V9     int64\n",
       "V10    int64\n",
       "V11    int64\n",
       "V12    int64\n",
       "V13    int64\n",
       "V14    int64\n",
       "V15    int64\n",
       "V16    int64\n",
       "V17    int64\n",
       "V18    int64\n",
       "V19    int64\n",
       "V20    int64\n",
       "V21    int64\n",
       "V22    int64\n",
       "V23    int64\n",
       "V24    int64\n",
       "V25    int64\n",
       "V26    int64\n",
       "V27    int64\n",
       "V28    int64\n",
       "V29    int64\n",
       "V30    int64\n",
       "       ...  \n",
       "V57    int64\n",
       "V58    int64\n",
       "V59    int64\n",
       "V60    int64\n",
       "V61    int64\n",
       "V62    int64\n",
       "V63    int64\n",
       "V64    int64\n",
       "V65    int64\n",
       "V66    int64\n",
       "V67    int64\n",
       "V68    int64\n",
       "V69    int64\n",
       "V70    int64\n",
       "V71    int64\n",
       "V72    int64\n",
       "V73    int64\n",
       "V74    int64\n",
       "V75    int64\n",
       "V76    int64\n",
       "V77    int64\n",
       "V78    int64\n",
       "V79    int64\n",
       "V80    int64\n",
       "V81    int64\n",
       "V82    int64\n",
       "V83    int64\n",
       "V84    int64\n",
       "V85    int64\n",
       "V86    int64\n",
       "Length: 86, dtype: object"
      ]
     },
     "execution_count": 5,
     "metadata": {},
     "output_type": "execute_result"
    }
   ],
   "source": [
    "ca_train.dtypes"
   ]
  },
  {
   "cell_type": "code",
   "execution_count": 9,
   "metadata": {},
   "outputs": [
    {
     "name": "stdout",
     "output_type": "stream",
     "text": [
      "V1 : 40\n",
      "V2 : 9\n",
      "V3 : 5\n",
      "V4 : 6\n",
      "V5 : 10\n",
      "V6 : 10\n",
      "V7 : 10\n",
      "V8 : 6\n",
      "V9 : 10\n",
      "V10 : 10\n",
      "V11 : 8\n",
      "V12 : 10\n",
      "V13 : 10\n",
      "V14 : 10\n",
      "V15 : 10\n",
      "V16 : 10\n",
      "V17 : 10\n",
      "V18 : 10\n",
      "V19 : 10\n",
      "V20 : 6\n",
      "V21 : 10\n",
      "V22 : 10\n",
      "V23 : 10\n",
      "V24 : 10\n",
      "V25 : 10\n",
      "V26 : 10\n",
      "V27 : 10\n",
      "V28 : 10\n",
      "V29 : 9\n",
      "V30 : 10\n",
      "V31 : 10\n",
      "V32 : 10\n",
      "V33 : 8\n",
      "V34 : 10\n",
      "V35 : 10\n",
      "V36 : 10\n",
      "V37 : 10\n",
      "V38 : 10\n",
      "V39 : 10\n",
      "V40 : 10\n",
      "V41 : 8\n",
      "V42 : 10\n",
      "V43 : 8\n",
      "V44 : 4\n",
      "V45 : 7\n",
      "V46 : 4\n",
      "V47 : 6\n",
      "V48 : 4\n",
      "V49 : 6\n",
      "V50 : 4\n",
      "V51 : 6\n",
      "V52 : 5\n",
      "V53 : 5\n",
      "V54 : 6\n",
      "V55 : 10\n",
      "V56 : 7\n",
      "V57 : 3\n",
      "V58 : 5\n",
      "V59 : 9\n",
      "V60 : 3\n",
      "V61 : 7\n",
      "V62 : 2\n",
      "V63 : 7\n",
      "V64 : 5\n",
      "V65 : 3\n",
      "V66 : 3\n",
      "V67 : 2\n",
      "V68 : 7\n",
      "V69 : 5\n",
      "V70 : 4\n",
      "V71 : 4\n",
      "V72 : 4\n",
      "V73 : 5\n",
      "V74 : 5\n",
      "V75 : 3\n",
      "V76 : 6\n",
      "V77 : 2\n",
      "V78 : 2\n",
      "V79 : 3\n",
      "V80 : 7\n",
      "V81 : 2\n",
      "V82 : 3\n",
      "V83 : 4\n",
      "V84 : 3\n",
      "V85 : 3\n",
      "V86 : 2\n"
     ]
    }
   ],
   "source": [
    "for col in ca_train.select_dtypes(['int64']).columns:\n",
    "    print(col,':',ca_train[col].nunique())"
   ]
  },
  {
   "cell_type": "code",
   "execution_count": 11,
   "metadata": {},
   "outputs": [
    {
     "data": {
      "text/plain": [
       "(5822, 86)"
      ]
     },
     "execution_count": 11,
     "metadata": {},
     "output_type": "execute_result"
    }
   ],
   "source": [
    "ca_train.shape"
   ]
  },
  {
   "cell_type": "code",
   "execution_count": 16,
   "metadata": {},
   "outputs": [],
   "source": [
    "ca1_train,ca1_test=train_test_split(ca_train,test_size=0.2,random_state=2)"
   ]
  },
  {
   "cell_type": "code",
   "execution_count": 18,
   "metadata": {},
   "outputs": [],
   "source": [
    "ca1_train.reset_index(drop=True,inplace=True)\n",
    "ca1_test.reset_index(drop=True,inplace=True)"
   ]
  },
  {
   "cell_type": "code",
   "execution_count": 19,
   "metadata": {},
   "outputs": [],
   "source": [
    "x_train=ca1_train.drop('V86',axis=1)\n",
    "x_test=ca1_test.drop('V86',axis=1)\n",
    "\n",
    "y_train=ca1_train['V86']\n",
    "y_test=ca1_test['V86']"
   ]
  },
  {
   "cell_type": "code",
   "execution_count": 30,
   "metadata": {},
   "outputs": [],
   "source": [
    "from sklearn.linear_model import LinearRegression, Lasso, Ridge\n",
    "from sklearn.linear_model import LogisticRegression\n",
    "from sklearn.metrics import roc_auc_score\n"
   ]
  },
  {
   "cell_type": "code",
   "execution_count": 76,
   "metadata": {},
   "outputs": [],
   "source": [
    "logr=LogisticRegression(penalty=\"l1\",class_weight=\"balanced\",random_state=2)"
   ]
  },
  {
   "cell_type": "code",
   "execution_count": 77,
   "metadata": {},
   "outputs": [
    {
     "data": {
      "text/plain": [
       "LogisticRegression(C=1.0, class_weight='balanced', dual=False,\n",
       "          fit_intercept=True, intercept_scaling=1, max_iter=100,\n",
       "          multi_class='ovr', n_jobs=1, penalty='l1', random_state=2,\n",
       "          solver='liblinear', tol=0.0001, verbose=0, warm_start=False)"
      ]
     },
     "execution_count": 77,
     "metadata": {},
     "output_type": "execute_result"
    }
   ],
   "source": [
    "logr.fit(x_train,y_train)"
   ]
  },
  {
   "cell_type": "code",
   "execution_count": 78,
   "metadata": {},
   "outputs": [
    {
     "data": {
      "text/plain": [
       "0.6759633027522937"
      ]
     },
     "execution_count": 78,
     "metadata": {},
     "output_type": "execute_result"
    }
   ],
   "source": [
    "\n",
    "roc_auc_score(y_test,logr.predict(x_test))"
   ]
  },
  {
   "cell_type": "code",
   "execution_count": 80,
   "metadata": {},
   "outputs": [],
   "source": [
    "r=logr.predict(ca_test)"
   ]
  },
  {
   "cell_type": "code",
   "execution_count": 81,
   "metadata": {},
   "outputs": [
    {
     "data": {
      "text/plain": [
       "array([0, 1, 0, ..., 1, 0, 1], dtype=int64)"
      ]
     },
     "execution_count": 81,
     "metadata": {},
     "output_type": "execute_result"
    }
   ],
   "source": [
    "r"
   ]
  },
  {
   "cell_type": "code",
   "execution_count": 84,
   "metadata": {},
   "outputs": [],
   "source": [
    "submission=pd.DataFrame(list(r),\n",
    "                       columns=['V86'])"
   ]
  },
  {
   "cell_type": "code",
   "execution_count": 86,
   "metadata": {},
   "outputs": [
    {
     "data": {
      "text/plain": [
       "0    2775\n",
       "1    1225\n",
       "Name: V86, dtype: int64"
      ]
     },
     "execution_count": 86,
     "metadata": {},
     "output_type": "execute_result"
    }
   ],
   "source": [
    "submission['V86'].value_counts()"
   ]
  },
  {
   "cell_type": "code",
   "execution_count": 87,
   "metadata": {},
   "outputs": [],
   "source": [
    "submission.to_csv('submission.csv',index=False)"
   ]
  },
  {
   "cell_type": "code",
   "execution_count": 97,
   "metadata": {},
   "outputs": [],
   "source": [
    "q=logr.predict_proba(x_test)"
   ]
  },
  {
   "cell_type": "code",
   "execution_count": 98,
   "metadata": {},
   "outputs": [],
   "source": [
    "q=np.where(q[:,0]>=0.33,0,1)"
   ]
  },
  {
   "cell_type": "code",
   "execution_count": 99,
   "metadata": {},
   "outputs": [
    {
     "data": {
      "text/plain": [
       "0.6574006116207951"
      ]
     },
     "execution_count": 99,
     "metadata": {},
     "output_type": "execute_result"
    }
   ],
   "source": [
    "\n",
    "roc_auc_score(y_test,q)"
   ]
  },
  {
   "cell_type": "code",
   "execution_count": 79,
   "metadata": {},
   "outputs": [],
   "source": [
    "prob_score=pd.Series(list(zip(*logr.predict_proba(x_train)))[1])"
   ]
  },
  {
   "cell_type": "code",
   "execution_count": 88,
   "metadata": {},
   "outputs": [
    {
     "data": {
      "text/plain": [
       "0       0.391726\n",
       "1       0.055335\n",
       "2       0.444702\n",
       "3       0.187836\n",
       "4       0.297118\n",
       "5       0.337893\n",
       "6       0.493738\n",
       "7       0.642845\n",
       "8       0.333005\n",
       "9       0.164376\n",
       "10      0.280343\n",
       "11      0.207722\n",
       "12      0.311112\n",
       "13      0.129132\n",
       "14      0.805337\n",
       "15      0.160109\n",
       "16      0.207534\n",
       "17      0.379601\n",
       "18      0.172736\n",
       "19      0.029429\n",
       "20      0.056204\n",
       "21      0.095381\n",
       "22      0.141770\n",
       "23      0.167320\n",
       "24      0.857397\n",
       "25      0.733932\n",
       "26      0.203039\n",
       "27      0.429215\n",
       "28      0.103768\n",
       "29      0.834458\n",
       "          ...   \n",
       "4627    0.020891\n",
       "4628    0.260555\n",
       "4629    0.523832\n",
       "4630    0.582448\n",
       "4631    0.020891\n",
       "4632    0.857498\n",
       "4633    0.443521\n",
       "4634    0.069925\n",
       "4635    0.766859\n",
       "4636    0.284156\n",
       "4637    0.207651\n",
       "4638    0.172771\n",
       "4639    0.737521\n",
       "4640    0.675861\n",
       "4641    0.196181\n",
       "4642    0.126862\n",
       "4643    0.846219\n",
       "4644    0.032253\n",
       "4645    0.319109\n",
       "4646    0.116383\n",
       "4647    0.725381\n",
       "4648    0.129695\n",
       "4649    0.125335\n",
       "4650    0.315990\n",
       "4651    0.338352\n",
       "4652    0.060818\n",
       "4653    0.643363\n",
       "4654    0.550209\n",
       "4655    0.136016\n",
       "4656    0.305928\n",
       "Length: 4657, dtype: float64"
      ]
     },
     "execution_count": 88,
     "metadata": {},
     "output_type": "execute_result"
    }
   ],
   "source": [
    "prob_score"
   ]
  },
  {
   "cell_type": "code",
   "execution_count": 51,
   "metadata": {},
   "outputs": [],
   "source": [
    "cutoffs=np.linspace(0,1,100)"
   ]
  },
  {
   "cell_type": "code",
   "execution_count": 52,
   "metadata": {},
   "outputs": [],
   "source": [
    "KS_cut=[]\n",
    "for cutoff in cutoffs:\n",
    "    predicted=pd.Series([0]*len(y_train))\n",
    "    predicted[prob_score>cutoff]=1\n",
    "    df=pd.DataFrame(list(zip(y_train,predicted)),columns=[\"real\",\"predicted\"])\n",
    "    TP=len(df[(df[\"real\"]==1) &(df[\"predicted\"]==1) ])\n",
    "    FP=len(df[(df[\"real\"]==0) &(df[\"predicted\"]==1) ])\n",
    "    TN=len(df[(df[\"real\"]==0) &(df[\"predicted\"]==0) ])\n",
    "    FN=len(df[(df[\"real\"]==1) &(df[\"predicted\"]==0) ])\n",
    "    P=TP+FN\n",
    "    N=TN+FP\n",
    "    KS=(TP/P)-(FP/N)\n",
    "    KS_cut.append(KS)\n",
    "\n",
    "cutoff_data=pd.DataFrame(list(zip(cutoffs,KS_cut)),columns=[\"cutoff\",\"KS\"])\n",
    "\n",
    "KS_cutoff=cutoff_data[cutoff_data[\"KS\"]==cutoff_data[\"KS\"].max()][\"cutoff\"]"
   ]
  },
  {
   "cell_type": "code",
   "execution_count": 53,
   "metadata": {},
   "outputs": [
    {
     "name": "stdout",
     "output_type": "stream",
     "text": [
      "confusion matrix :\n",
      " \n",
      "  predicted    0    1\n",
      "real               \n",
      "0          848  242\n",
      "1           36   39\n"
     ]
    }
   ],
   "source": [
    "prob_score_test=pd.Series(list(zip(*logr.predict_proba(x_test)))[1])\n",
    "\n",
    "predicted_test=pd.Series([0]*len(y_test))\n",
    "predicted_test[prob_score_test>float(KS_cutoff)]=1\n",
    "\n",
    "df_test=pd.DataFrame(list(zip(y_test,predicted_test)),columns=[\"real\",\"predicted\"])\n",
    "\n",
    "k=pd.crosstab(df_test['real'],df_test[\"predicted\"])\n",
    "print('confusion matrix :\\n \\n ',k)\n",
    "TN=k.iloc[0,0]\n",
    "TP=k.iloc[1,1]\n",
    "FP=k.iloc[0,1]\n",
    "FN=k.iloc[1,0]\n",
    "P=TP+FN\n",
    "N=TN+FP"
   ]
  },
  {
   "cell_type": "code",
   "execution_count": 54,
   "metadata": {},
   "outputs": [
    {
     "data": {
      "text/plain": [
       "0.76137339055794"
      ]
     },
     "execution_count": 54,
     "metadata": {},
     "output_type": "execute_result"
    }
   ],
   "source": [
    "(TP+TN)/(P+N)"
   ]
  },
  {
   "cell_type": "code",
   "execution_count": 55,
   "metadata": {},
   "outputs": [
    {
     "data": {
      "text/plain": [
       "0.52"
      ]
     },
     "execution_count": 55,
     "metadata": {},
     "output_type": "execute_result"
    }
   ],
   "source": [
    "TP/P"
   ]
  },
  {
   "cell_type": "code",
   "execution_count": 56,
   "metadata": {},
   "outputs": [
    {
     "data": {
      "text/plain": [
       "0.7779816513761468"
      ]
     },
     "execution_count": 56,
     "metadata": {},
     "output_type": "execute_result"
    }
   ],
   "source": [
    "TN/N"
   ]
  },
  {
   "cell_type": "code",
   "execution_count": 74,
   "metadata": {},
   "outputs": [],
   "source": [
    "cutoffs=np.linspace(0.010,0.99,100)\n",
    "def Fbeta_perf(beta,cutoffs,y_train,prob_score):\n",
    "    FB_cut=[]\n",
    "    for cutoff in cutoffs:\n",
    "        predicted=pd.Series([0]*len(y_train))\n",
    "        predicted[prob_score>cutoff]=1\n",
    "        df=pd.DataFrame(list(zip(y_train,predicted)),columns=[\"real\",\"predicted\"])\n",
    "\n",
    "        TP=len(df[(df[\"real\"]==1) &(df[\"predicted\"]==1) ])\n",
    "        FP=len(df[(df[\"real\"]==0) &(df[\"predicted\"]==1) ])\n",
    "        FN=len(df[(df[\"real\"]==1) &(df[\"predicted\"]==0) ])\n",
    "        P=TP+FN\n",
    "        \n",
    "        \n",
    "        Precision=TP/(TP+FP)\n",
    "        Recall=TP/P\n",
    "        FB=(1+beta**2)*Precision*Recall/((beta**2)*Precision+Recall)\n",
    "        FB_cut.append(FB)\n",
    "\n",
    "    cutoff_data=pd.DataFrame(list(zip(cutoffs,FB_cut)),columns=[\"cutoff\",\"FB\"])\n",
    "\n",
    "    FB_cutoff=cutoff_data[cutoff_data[\"FB\"]==cutoff_data[\"FB\"].max()][\"cutoff\"]\n",
    "\n",
    "    prob_score_test=pd.Series(list(zip(*logr.predict_proba(x_test)))[1])\n",
    "\n",
    "    predicted_test=pd.Series([0]*len(y_test))\n",
    "    predicted_test[prob_score_test>float(FB_cutoff)]=1\n",
    "\n",
    "    df_test=pd.DataFrame(list(zip(y_test,predicted_test)),columns=[\"real\",\"predicted\"])\n",
    "\n",
    "    k=pd.crosstab(df_test['real'],df_test[\"predicted\"])\n",
    "#     print('confusion matrix :\\n \\n ',k)\n",
    "    TN=k.iloc[0,0]\n",
    "    TP=k.iloc[1,1]\n",
    "    FP=k.iloc[0,1]\n",
    "    FN=k.iloc[1,0]\n",
    "    P=TP+FN\n",
    "    N=TN+FP\n",
    "    print('For beta :',beta)\n",
    "    print('Accuracy is :',(TP+TN)/(P+N))\n",
    "    print('Sensitivity is :',(TP/P))\n",
    "    print('Specificity is :',(TN/N))\n",
    "    Precision=TP/(TP+FP)\n",
    "        \n",
    "    Recall=TP/P\n",
    "    print(cutoff)    \n",
    "    print('F Beta is = ',(1+beta**2)*Precision*Recall/((beta**2)*Precision+Recall))\n",
    "    print('\\n \\n \\n')"
   ]
  },
  {
   "cell_type": "code",
   "execution_count": 75,
   "metadata": {},
   "outputs": [
    {
     "name": "stdout",
     "output_type": "stream",
     "text": [
      "For beta : 0.5\n",
      "Accuracy is : 0.9158798283261803\n",
      "Sensitivity is : 0.22666666666666666\n",
      "Specificity is : 0.963302752293578\n",
      "0.99\n",
      "F Beta is =  0.28052805280528054\n",
      "\n",
      " \n",
      " \n",
      "\n",
      "For beta : 1\n",
      "Accuracy is : 0.8583690987124464\n",
      "Sensitivity is : 0.37333333333333335\n",
      "Specificity is : 0.8917431192660551\n",
      "0.99\n",
      "F Beta is =  0.253393665158371\n",
      "\n",
      " \n",
      " \n",
      "\n",
      "For beta : 2\n",
      "Accuracy is : 0.7587982832618025\n",
      "Sensitivity is : 0.52\n",
      "Specificity is : 0.7752293577981652\n",
      "0.99\n",
      "F Beta is =  0.3339041095890411\n",
      "\n",
      " \n",
      " \n",
      "\n"
     ]
    }
   ],
   "source": [
    "Fbeta_perf(0.5,cutoffs,y_train,prob_score)\n",
    "Fbeta_perf(1,cutoffs,y_train,prob_score)\n",
    "Fbeta_perf(2,cutoffs,y_train,prob_score)"
   ]
  },
  {
   "cell_type": "code",
   "execution_count": null,
   "metadata": {},
   "outputs": [],
   "source": []
  },
  {
   "cell_type": "code",
   "execution_count": 59,
   "metadata": {},
   "outputs": [],
   "source": [
    "xgb_params = {  \n",
    "                \"learning_rate\":[0.01,0.05,0.1,0.3,0.5],\n",
    "                \"gamma\":[i/10.0 for i in range(0,5)],\n",
    "                \"max_depth\": [2,3,4,5,6,7,8],\n",
    "                \"min_child_weight\":[1,2,5,10],\n",
    "                \"max_delta_step\":[0,1,2,5,10],\n",
    "                \"subsample\":[i/10.0 for i in range(5,10)],\n",
    "                \"colsample_bytree\":[i/10.0 for i in range(5,10)],\n",
    "                \"colsample_bylevel\":[i/10.0 for i in range(5,10)],\n",
    "                \"reg_lambda\":[1e-5, 1e-2, 0.1, 1, 100], \n",
    "                \"reg_alpha\":[1e-5, 1e-2, 0.1, 1, 100],\n",
    "                \"scale_pos_weight\":[1,2,3,4,5,6,7,8,9],\n",
    "                \"n_estimators\":[100,500,700,1000]\n",
    "             }\n"
   ]
  },
  {
   "cell_type": "code",
   "execution_count": 60,
   "metadata": {},
   "outputs": [],
   "source": [
    "xgb=XGBClassifier(objective='binary:logistic')"
   ]
  },
  {
   "cell_type": "code",
   "execution_count": 61,
   "metadata": {},
   "outputs": [],
   "source": [
    "n_iter=10\n",
    "\n",
    "random_search=RandomizedSearchCV(xgb,n_jobs=-1,cv=5,n_iter=n_iter,scoring='roc_auc',\n",
    "                                 param_distributions=xgb_params)"
   ]
  },
  {
   "cell_type": "code",
   "execution_count": 62,
   "metadata": {},
   "outputs": [
    {
     "data": {
      "text/plain": [
       "RandomizedSearchCV(cv=5, error_score='raise',\n",
       "          estimator=XGBClassifier(base_score=0.5, booster='gbtree', colsample_bylevel=1,\n",
       "       colsample_bytree=1, gamma=0, learning_rate=0.1, max_delta_step=0,\n",
       "       max_depth=3, min_child_weight=1, missing=None, n_estimators=100,\n",
       "       n_jobs=1, nthread=None, objective='binary:logistic', random_state=0,\n",
       "       reg_alpha=0, reg_lambda=1, scale_pos_weight=1, seed=None,\n",
       "       silent=True, subsample=1),\n",
       "          fit_params=None, iid=True, n_iter=10, n_jobs=-1,\n",
       "          param_distributions={'learning_rate': [0.01, 0.05, 0.1, 0.3, 0.5], 'gamma': [0.0, 0.1, 0.2, 0.3, 0.4], 'max_depth': [2, 3, 4, 5, 6, 7, 8], 'min_child_weight': [1, 2, 5, 10], 'max_delta_step': [0, 1, 2, 5, 10], 'subsample': [0.5, 0.6, 0.7, 0.8, 0.9], 'colsample_bytree': [0.5, 0.6, 0.7, 0.8, 0.9], 'co....1, 1, 100], 'scale_pos_weight': [1, 2, 3, 4, 5, 6, 7, 8, 9], 'n_estimators': [100, 500, 700, 1000]},\n",
       "          pre_dispatch='2*n_jobs', random_state=None, refit=True,\n",
       "          return_train_score='warn', scoring='roc_auc', verbose=0)"
      ]
     },
     "execution_count": 62,
     "metadata": {},
     "output_type": "execute_result"
    }
   ],
   "source": [
    "random_search.fit(x_train,y_train)"
   ]
  },
  {
   "cell_type": "code",
   "execution_count": 63,
   "metadata": {},
   "outputs": [],
   "source": [
    "def report(results, n_top=3):\n",
    "    for i in range(1, n_top + 1):\n",
    "        candidates = np.flatnonzero(results['rank_test_score'] == i)\n",
    "        for candidate in candidates:\n",
    "            print(\"Model with rank: {0}\".format(i))\n",
    "            print(\"Mean validation score: {0:.3f} (std: {1:.5f})\".format(\n",
    "                  results['mean_test_score'][candidate],\n",
    "                  results['std_test_score'][candidate]))\n",
    "            print(\"Parameters: {0}\".format(results['params'][candidate]))\n",
    "            print(\"\")"
   ]
  },
  {
   "cell_type": "code",
   "execution_count": 64,
   "metadata": {},
   "outputs": [
    {
     "name": "stdout",
     "output_type": "stream",
     "text": [
      "Model with rank: 1\n",
      "Mean validation score: 0.763 (std: 0.02067)\n",
      "Parameters: {'subsample': 0.8, 'scale_pos_weight': 6, 'reg_lambda': 100, 'reg_alpha': 100, 'n_estimators': 700, 'min_child_weight': 5, 'max_depth': 8, 'max_delta_step': 0, 'learning_rate': 0.1, 'gamma': 0.4, 'colsample_bytree': 0.7, 'colsample_bylevel': 0.8}\n",
      "\n",
      "Model with rank: 2\n",
      "Mean validation score: 0.761 (std: 0.01860)\n",
      "Parameters: {'subsample': 0.6, 'scale_pos_weight': 9, 'reg_lambda': 100, 'reg_alpha': 1, 'n_estimators': 700, 'min_child_weight': 10, 'max_depth': 2, 'max_delta_step': 1, 'learning_rate': 0.01, 'gamma': 0.4, 'colsample_bytree': 0.8, 'colsample_bylevel': 0.5}\n",
      "\n",
      "Model with rank: 3\n",
      "Mean validation score: 0.760 (std: 0.01668)\n",
      "Parameters: {'subsample': 0.7, 'scale_pos_weight': 9, 'reg_lambda': 0.1, 'reg_alpha': 100, 'n_estimators': 1000, 'min_child_weight': 10, 'max_depth': 8, 'max_delta_step': 5, 'learning_rate': 0.5, 'gamma': 0.2, 'colsample_bytree': 0.8, 'colsample_bylevel': 0.6}\n",
      "\n",
      "Model with rank: 4\n",
      "Mean validation score: 0.760 (std: 0.02903)\n",
      "Parameters: {'subsample': 0.8, 'scale_pos_weight': 6, 'reg_lambda': 0.01, 'reg_alpha': 1, 'n_estimators': 700, 'min_child_weight': 1, 'max_depth': 6, 'max_delta_step': 10, 'learning_rate': 0.01, 'gamma': 0.4, 'colsample_bytree': 0.6, 'colsample_bylevel': 0.6}\n",
      "\n",
      "Model with rank: 5\n",
      "Mean validation score: 0.749 (std: 0.02047)\n",
      "Parameters: {'subsample': 0.5, 'scale_pos_weight': 6, 'reg_lambda': 1, 'reg_alpha': 100, 'n_estimators': 700, 'min_child_weight': 10, 'max_depth': 4, 'max_delta_step': 10, 'learning_rate': 0.05, 'gamma': 0.3, 'colsample_bytree': 0.6, 'colsample_bylevel': 0.7}\n",
      "\n"
     ]
    }
   ],
   "source": [
    "report(random_search.cv_results_,5)"
   ]
  },
  {
   "cell_type": "code",
   "execution_count": 65,
   "metadata": {},
   "outputs": [
    {
     "data": {
      "text/plain": [
       "XGBClassifier(base_score=0.5, booster='gbtree', colsample_bylevel=0.8,\n",
       "       colsample_bytree=0.7, gamma=0.4, learning_rate=0.1,\n",
       "       max_delta_step=0, max_depth=8, min_child_weight=5, missing=None,\n",
       "       n_estimators=700, n_jobs=1, nthread=None,\n",
       "       objective='binary:logistic', random_state=0, reg_alpha=100,\n",
       "       reg_lambda=100, scale_pos_weight=6, seed=None, silent=True,\n",
       "       subsample=0.8)"
      ]
     },
     "execution_count": 65,
     "metadata": {},
     "output_type": "execute_result"
    }
   ],
   "source": [
    "random_search.best_estimator_"
   ]
  },
  {
   "cell_type": "code",
   "execution_count": 66,
   "metadata": {},
   "outputs": [],
   "source": [
    "xgb=XGBClassifier(base_score=0.5, booster='gbtree', colsample_bylevel=0.8,\n",
    "       colsample_bytree=0.7, gamma=0.4, learning_rate=0.1,\n",
    "       max_delta_step=0, max_depth=8, min_child_weight=5, missing=None,\n",
    "       n_estimators=700, n_jobs=1, nthread=None,\n",
    "       objective='binary:logistic', random_state=0, reg_alpha=100,\n",
    "       reg_lambda=100, scale_pos_weight=6, seed=None, silent=True,\n",
    "       subsample=0.8)"
   ]
  },
  {
   "cell_type": "code",
   "execution_count": 67,
   "metadata": {},
   "outputs": [],
   "source": [
    "n_iter=10\n",
    "\n",
    "random_search=RandomizedSearchCV(xgb,n_jobs=-1,cv=5,n_iter=n_iter,scoring='roc_auc',\n",
    "                                 param_distributions=xgb_params)"
   ]
  },
  {
   "cell_type": "code",
   "execution_count": 68,
   "metadata": {},
   "outputs": [
    {
     "data": {
      "text/plain": [
       "RandomizedSearchCV(cv=5, error_score='raise',\n",
       "          estimator=XGBClassifier(base_score=0.5, booster='gbtree', colsample_bylevel=0.8,\n",
       "       colsample_bytree=0.7, gamma=0.4, learning_rate=0.1,\n",
       "       max_delta_step=0, max_depth=8, min_child_weight=5, missing=None,\n",
       "       n_estimators=700, n_jobs=1, nthread=None,\n",
       "       objective='binary:logistic', random_state=0, reg_alpha=100,\n",
       "       reg_lambda=100, scale_pos_weight=6, seed=None, silent=True,\n",
       "       subsample=0.8),\n",
       "          fit_params=None, iid=True, n_iter=10, n_jobs=-1,\n",
       "          param_distributions={'learning_rate': [0.01, 0.05, 0.1, 0.3, 0.5], 'gamma': [0.0, 0.1, 0.2, 0.3, 0.4], 'max_depth': [2, 3, 4, 5, 6, 7, 8], 'min_child_weight': [1, 2, 5, 10], 'max_delta_step': [0, 1, 2, 5, 10], 'subsample': [0.5, 0.6, 0.7, 0.8, 0.9], 'colsample_bytree': [0.5, 0.6, 0.7, 0.8, 0.9], 'co....1, 1, 100], 'scale_pos_weight': [1, 2, 3, 4, 5, 6, 7, 8, 9], 'n_estimators': [100, 500, 700, 1000]},\n",
       "          pre_dispatch='2*n_jobs', random_state=None, refit=True,\n",
       "          return_train_score='warn', scoring='roc_auc', verbose=0)"
      ]
     },
     "execution_count": 68,
     "metadata": {},
     "output_type": "execute_result"
    }
   ],
   "source": [
    "random_search.fit(x_train,y_train)"
   ]
  },
  {
   "cell_type": "code",
   "execution_count": 70,
   "metadata": {},
   "outputs": [],
   "source": [
    "l=random_search.predict_proba(x_test)"
   ]
  },
  {
   "cell_type": "code",
   "execution_count": 71,
   "metadata": {},
   "outputs": [
    {
     "data": {
      "text/plain": [
       "array([[0.5431392 , 0.45686078],\n",
       "       [0.7242397 , 0.27576026],\n",
       "       [0.43199867, 0.56800133],\n",
       "       ...,\n",
       "       [0.44087374, 0.55912626],\n",
       "       [0.8324307 , 0.16756931],\n",
       "       [0.78163016, 0.21836981]], dtype=float32)"
      ]
     },
     "execution_count": 71,
     "metadata": {},
     "output_type": "execute_result"
    }
   ],
   "source": [
    "l"
   ]
  },
  {
   "cell_type": "code",
   "execution_count": 72,
   "metadata": {},
   "outputs": [],
   "source": [
    "l=np.where(l[:,0]>=0.5,0,1)"
   ]
  },
  {
   "cell_type": "code",
   "execution_count": 69,
   "metadata": {},
   "outputs": [
    {
     "data": {
      "text/plain": [
       "array([0, 1], dtype=int64)"
      ]
     },
     "execution_count": 69,
     "metadata": {},
     "output_type": "execute_result"
    }
   ],
   "source": [
    "random_search.classes_"
   ]
  },
  {
   "cell_type": "code",
   "execution_count": 73,
   "metadata": {},
   "outputs": [
    {
     "data": {
      "text/plain": [
       "0.6364220183486238"
      ]
     },
     "execution_count": 73,
     "metadata": {},
     "output_type": "execute_result"
    }
   ],
   "source": [
    "\n",
    "roc_auc_score(y_test,l)"
   ]
  },
  {
   "cell_type": "code",
   "execution_count": null,
   "metadata": {},
   "outputs": [],
   "source": []
  }
 ],
 "metadata": {
  "kernelspec": {
   "display_name": "Python 3",
   "language": "python",
   "name": "python3"
  },
  "language_info": {
   "codemirror_mode": {
    "name": "ipython",
    "version": 3
   },
   "file_extension": ".py",
   "mimetype": "text/x-python",
   "name": "python",
   "nbconvert_exporter": "python",
   "pygments_lexer": "ipython3",
   "version": "3.6.4"
  }
 },
 "nbformat": 4,
 "nbformat_minor": 2
}
