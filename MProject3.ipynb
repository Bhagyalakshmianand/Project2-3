{
 "cells": [
  {
   "cell_type": "code",
   "execution_count": 163,
   "metadata": {},
   "outputs": [],
   "source": [
    "import warnings\n",
    "warnings.filterwarnings('ignore')\n",
    "import pandas as pd\n",
    "import math\n",
    "from sklearn.cross_validation import KFold\n",
    "from sklearn.model_selection import train_test_split\n",
    "import numpy as np\n",
    "from sklearn.model_selection import RandomizedSearchCV,train_test_split,GridSearchCV\n",
    "from sklearn.tree import DecisionTreeClassifier\n",
    "from sklearn.ensemble import AdaBoostClassifier\n",
    "from xgboost.sklearn import XGBClassifier"
   ]
  },
  {
   "cell_type": "code",
   "execution_count": 164,
   "metadata": {},
   "outputs": [],
   "source": [
    "datafile_train=r'C:\\Users\\sujith\\Desktop\\Project\\p3\\counterfeit_train.csv'\n",
    "datafile_test=r'C:\\Users\\sujith\\Desktop\\Project\\p3\\counterfeit_test.csv'\n",
    "cf_train=pd.read_csv(datafile_train)\n",
    "cf_test=pd.read_csv(datafile_test)"
   ]
  },
  {
   "cell_type": "code",
   "execution_count": 165,
   "metadata": {},
   "outputs": [
    {
     "data": {
      "text/plain": [
       "(6818, 12)"
      ]
     },
     "execution_count": 165,
     "metadata": {},
     "output_type": "execute_result"
    }
   ],
   "source": [
    "cf_train.shape"
   ]
  },
  {
   "cell_type": "code",
   "execution_count": 166,
   "metadata": {},
   "outputs": [
    {
     "data": {
      "text/html": [
       "<div>\n",
       "<style scoped>\n",
       "    .dataframe tbody tr th:only-of-type {\n",
       "        vertical-align: middle;\n",
       "    }\n",
       "\n",
       "    .dataframe tbody tr th {\n",
       "        vertical-align: top;\n",
       "    }\n",
       "\n",
       "    .dataframe thead th {\n",
       "        text-align: right;\n",
       "    }\n",
       "</style>\n",
       "<table border=\"1\" class=\"dataframe\">\n",
       "  <thead>\n",
       "    <tr style=\"text-align: right;\">\n",
       "      <th></th>\n",
       "      <th>Medicine_ID</th>\n",
       "      <th>Counterfeit_Weight</th>\n",
       "      <th>DistArea_ID</th>\n",
       "      <th>Active_Since</th>\n",
       "      <th>Medicine_MRP</th>\n",
       "      <th>Medicine_Type</th>\n",
       "      <th>SidEffect_Level</th>\n",
       "      <th>Availability_rating</th>\n",
       "      <th>Area_Type</th>\n",
       "      <th>Area_City_Type</th>\n",
       "      <th>Area_dist_level</th>\n",
       "      <th>Counterfeit_Sales</th>\n",
       "    </tr>\n",
       "  </thead>\n",
       "  <tbody>\n",
       "    <tr>\n",
       "      <th>0</th>\n",
       "      <td>RRA15</td>\n",
       "      <td>13.100</td>\n",
       "      <td>Area046</td>\n",
       "      <td>1995</td>\n",
       "      <td>160.2366</td>\n",
       "      <td>Antimalarial</td>\n",
       "      <td>critical</td>\n",
       "      <td>0.070422</td>\n",
       "      <td>DownTown</td>\n",
       "      <td>Tier 1</td>\n",
       "      <td>Small</td>\n",
       "      <td>1775.5026</td>\n",
       "    </tr>\n",
       "    <tr>\n",
       "      <th>1</th>\n",
       "      <td>YVV26</td>\n",
       "      <td>NaN</td>\n",
       "      <td>Area027</td>\n",
       "      <td>1983</td>\n",
       "      <td>110.4384</td>\n",
       "      <td>Mstablizers</td>\n",
       "      <td>mild</td>\n",
       "      <td>0.013000</td>\n",
       "      <td>CityLimits</td>\n",
       "      <td>Tier 3</td>\n",
       "      <td>Medium</td>\n",
       "      <td>3069.1520</td>\n",
       "    </tr>\n",
       "    <tr>\n",
       "      <th>2</th>\n",
       "      <td>LJC15</td>\n",
       "      <td>9.025</td>\n",
       "      <td>Area046</td>\n",
       "      <td>1995</td>\n",
       "      <td>259.4092</td>\n",
       "      <td>Cardiac</td>\n",
       "      <td>mild</td>\n",
       "      <td>0.060783</td>\n",
       "      <td>DownTown</td>\n",
       "      <td>Tier 1</td>\n",
       "      <td>Small</td>\n",
       "      <td>2603.0920</td>\n",
       "    </tr>\n",
       "    <tr>\n",
       "      <th>3</th>\n",
       "      <td>GWC40</td>\n",
       "      <td>11.800</td>\n",
       "      <td>Area046</td>\n",
       "      <td>1995</td>\n",
       "      <td>99.9830</td>\n",
       "      <td>OralContraceptives</td>\n",
       "      <td>mild</td>\n",
       "      <td>0.065555</td>\n",
       "      <td>DownTown</td>\n",
       "      <td>Tier 1</td>\n",
       "      <td>Small</td>\n",
       "      <td>1101.7130</td>\n",
       "    </tr>\n",
       "    <tr>\n",
       "      <th>4</th>\n",
       "      <td>QMN13</td>\n",
       "      <td>NaN</td>\n",
       "      <td>Area019</td>\n",
       "      <td>1983</td>\n",
       "      <td>56.4402</td>\n",
       "      <td>Hreplacements</td>\n",
       "      <td>critical</td>\n",
       "      <td>0.248859</td>\n",
       "      <td>MidTownResidential</td>\n",
       "      <td>Tier 1</td>\n",
       "      <td>Small</td>\n",
       "      <td>158.9402</td>\n",
       "    </tr>\n",
       "    <tr>\n",
       "      <th>5</th>\n",
       "      <td>JDG81</td>\n",
       "      <td>8.775</td>\n",
       "      <td>Area045</td>\n",
       "      <td>2000</td>\n",
       "      <td>165.5656</td>\n",
       "      <td>Antiseptics</td>\n",
       "      <td>mild</td>\n",
       "      <td>0.088881</td>\n",
       "      <td>DownTown</td>\n",
       "      <td>Tier 2</td>\n",
       "      <td>Unknown</td>\n",
       "      <td>3047.8464</td>\n",
       "    </tr>\n",
       "    <tr>\n",
       "      <th>6</th>\n",
       "      <td>KPX48</td>\n",
       "      <td>18.000</td>\n",
       "      <td>Area018</td>\n",
       "      <td>2007</td>\n",
       "      <td>156.9102</td>\n",
       "      <td>Hreplacements</td>\n",
       "      <td>critical</td>\n",
       "      <td>0.051685</td>\n",
       "      <td>Industrial</td>\n",
       "      <td>Tier 3</td>\n",
       "      <td>Medium</td>\n",
       "      <td>2883.3938</td>\n",
       "    </tr>\n",
       "    <tr>\n",
       "      <th>7</th>\n",
       "      <td>CYW14</td>\n",
       "      <td>7.680</td>\n",
       "      <td>Area013</td>\n",
       "      <td>1985</td>\n",
       "      <td>154.3470</td>\n",
       "      <td>Antiseptics</td>\n",
       "      <td>mild</td>\n",
       "      <td>0.028150</td>\n",
       "      <td>DownTown</td>\n",
       "      <td>Tier 3</td>\n",
       "      <td>High</td>\n",
       "      <td>3262.2340</td>\n",
       "    </tr>\n",
       "    <tr>\n",
       "      <th>8</th>\n",
       "      <td>TVF57</td>\n",
       "      <td>18.550</td>\n",
       "      <td>Area046</td>\n",
       "      <td>1995</td>\n",
       "      <td>107.3068</td>\n",
       "      <td>Hreplacements</td>\n",
       "      <td>critical</td>\n",
       "      <td>0.060266</td>\n",
       "      <td>DownTown</td>\n",
       "      <td>Tier 1</td>\n",
       "      <td>Small</td>\n",
       "      <td>1959.9292</td>\n",
       "    </tr>\n",
       "    <tr>\n",
       "      <th>9</th>\n",
       "      <td>MGU75</td>\n",
       "      <td>9.510</td>\n",
       "      <td>Area013</td>\n",
       "      <td>1985</td>\n",
       "      <td>161.1392</td>\n",
       "      <td>Statins</td>\n",
       "      <td>mild</td>\n",
       "      <td>0.023755</td>\n",
       "      <td>DownTown</td>\n",
       "      <td>Tier 3</td>\n",
       "      <td>High</td>\n",
       "      <td>3095.7840</td>\n",
       "    </tr>\n",
       "  </tbody>\n",
       "</table>\n",
       "</div>"
      ],
      "text/plain": [
       "  Medicine_ID  Counterfeit_Weight DistArea_ID  Active_Since  Medicine_MRP  \\\n",
       "0       RRA15              13.100     Area046          1995      160.2366   \n",
       "1       YVV26                 NaN     Area027          1983      110.4384   \n",
       "2       LJC15               9.025     Area046          1995      259.4092   \n",
       "3       GWC40              11.800     Area046          1995       99.9830   \n",
       "4       QMN13                 NaN     Area019          1983       56.4402   \n",
       "5       JDG81               8.775     Area045          2000      165.5656   \n",
       "6       KPX48              18.000     Area018          2007      156.9102   \n",
       "7       CYW14               7.680     Area013          1985      154.3470   \n",
       "8       TVF57              18.550     Area046          1995      107.3068   \n",
       "9       MGU75               9.510     Area013          1985      161.1392   \n",
       "\n",
       "        Medicine_Type SidEffect_Level  Availability_rating  \\\n",
       "0        Antimalarial        critical             0.070422   \n",
       "1         Mstablizers            mild             0.013000   \n",
       "2             Cardiac            mild             0.060783   \n",
       "3  OralContraceptives            mild             0.065555   \n",
       "4       Hreplacements        critical             0.248859   \n",
       "5         Antiseptics            mild             0.088881   \n",
       "6       Hreplacements        critical             0.051685   \n",
       "7         Antiseptics            mild             0.028150   \n",
       "8       Hreplacements        critical             0.060266   \n",
       "9             Statins            mild             0.023755   \n",
       "\n",
       "            Area_Type Area_City_Type Area_dist_level  Counterfeit_Sales  \n",
       "0            DownTown         Tier 1           Small          1775.5026  \n",
       "1          CityLimits         Tier 3          Medium          3069.1520  \n",
       "2            DownTown         Tier 1           Small          2603.0920  \n",
       "3            DownTown         Tier 1           Small          1101.7130  \n",
       "4  MidTownResidential         Tier 1           Small           158.9402  \n",
       "5            DownTown         Tier 2         Unknown          3047.8464  \n",
       "6          Industrial         Tier 3          Medium          2883.3938  \n",
       "7            DownTown         Tier 3            High          3262.2340  \n",
       "8            DownTown         Tier 1           Small          1959.9292  \n",
       "9            DownTown         Tier 3            High          3095.7840  "
      ]
     },
     "execution_count": 166,
     "metadata": {},
     "output_type": "execute_result"
    }
   ],
   "source": [
    "cf_train.head(10)"
   ]
  },
  {
   "cell_type": "code",
   "execution_count": 167,
   "metadata": {},
   "outputs": [
    {
     "data": {
      "text/plain": [
       "Medicine_ID             object\n",
       "Counterfeit_Weight     float64\n",
       "DistArea_ID             object\n",
       "Active_Since             int64\n",
       "Medicine_MRP           float64\n",
       "Medicine_Type           object\n",
       "SidEffect_Level         object\n",
       "Availability_rating    float64\n",
       "Area_Type               object\n",
       "Area_City_Type          object\n",
       "Area_dist_level         object\n",
       "Counterfeit_Sales      float64\n",
       "dtype: object"
      ]
     },
     "execution_count": 167,
     "metadata": {},
     "output_type": "execute_result"
    }
   ],
   "source": [
    "cf_train.dtypes"
   ]
  },
  {
   "cell_type": "code",
   "execution_count": 168,
   "metadata": {},
   "outputs": [
    {
     "name": "stdout",
     "output_type": "stream",
     "text": [
      "Medicine_ID : 1557\n",
      "DistArea_ID : 10\n",
      "Medicine_Type : 16\n",
      "SidEffect_Level : 2\n",
      "Area_Type : 4\n",
      "Area_City_Type : 3\n",
      "Area_dist_level : 4\n"
     ]
    }
   ],
   "source": [
    "for col in cf_train.select_dtypes(['object']).columns:\n",
    "    print(col,':',cf_train[col].nunique())"
   ]
  },
  {
   "cell_type": "code",
   "execution_count": 169,
   "metadata": {},
   "outputs": [
    {
     "data": {
      "text/plain": [
       "Medicine_ID               0\n",
       "Counterfeit_Weight     1166\n",
       "DistArea_ID               0\n",
       "Active_Since              0\n",
       "Medicine_MRP              0\n",
       "Medicine_Type             0\n",
       "SidEffect_Level           0\n",
       "Availability_rating       0\n",
       "Area_Type                 0\n",
       "Area_City_Type            0\n",
       "Area_dist_level           0\n",
       "Counterfeit_Sales         0\n",
       "dtype: int64"
      ]
     },
     "execution_count": 169,
     "metadata": {},
     "output_type": "execute_result"
    }
   ],
   "source": [
    "cf_train.isnull().sum()"
   ]
  },
  {
   "cell_type": "code",
   "execution_count": 170,
   "metadata": {},
   "outputs": [
    {
     "data": {
      "text/html": [
       "<div>\n",
       "<style scoped>\n",
       "    .dataframe tbody tr th:only-of-type {\n",
       "        vertical-align: middle;\n",
       "    }\n",
       "\n",
       "    .dataframe tbody tr th {\n",
       "        vertical-align: top;\n",
       "    }\n",
       "\n",
       "    .dataframe thead th {\n",
       "        text-align: right;\n",
       "    }\n",
       "</style>\n",
       "<table border=\"1\" class=\"dataframe\">\n",
       "  <thead>\n",
       "    <tr style=\"text-align: right;\">\n",
       "      <th></th>\n",
       "      <th>Counterfeit_Weight</th>\n",
       "      <th>Active_Since</th>\n",
       "      <th>Medicine_MRP</th>\n",
       "      <th>Availability_rating</th>\n",
       "      <th>Counterfeit_Sales</th>\n",
       "    </tr>\n",
       "  </thead>\n",
       "  <tbody>\n",
       "    <tr>\n",
       "      <th>count</th>\n",
       "      <td>5652.000000</td>\n",
       "      <td>6818.000000</td>\n",
       "      <td>6818.000000</td>\n",
       "      <td>6818.000000</td>\n",
       "      <td>6818.000000</td>\n",
       "    </tr>\n",
       "    <tr>\n",
       "      <th>mean</th>\n",
       "      <td>14.115057</td>\n",
       "      <td>1995.836316</td>\n",
       "      <td>151.401518</td>\n",
       "      <td>0.079174</td>\n",
       "      <td>2280.583480</td>\n",
       "    </tr>\n",
       "    <tr>\n",
       "      <th>std</th>\n",
       "      <td>4.649668</td>\n",
       "      <td>8.368979</td>\n",
       "      <td>62.203961</td>\n",
       "      <td>0.051481</td>\n",
       "      <td>1693.354404</td>\n",
       "    </tr>\n",
       "    <tr>\n",
       "      <th>min</th>\n",
       "      <td>5.855000</td>\n",
       "      <td>1983.000000</td>\n",
       "      <td>41.790000</td>\n",
       "      <td>0.013000</td>\n",
       "      <td>146.290000</td>\n",
       "    </tr>\n",
       "    <tr>\n",
       "      <th>25%</th>\n",
       "      <td>9.995000</td>\n",
       "      <td>1985.000000</td>\n",
       "      <td>104.509400</td>\n",
       "      <td>0.040058</td>\n",
       "      <td>933.265600</td>\n",
       "    </tr>\n",
       "    <tr>\n",
       "      <th>50%</th>\n",
       "      <td>13.800000</td>\n",
       "      <td>1997.000000</td>\n",
       "      <td>153.195700</td>\n",
       "      <td>0.066955</td>\n",
       "      <td>1902.670400</td>\n",
       "    </tr>\n",
       "    <tr>\n",
       "      <th>75%</th>\n",
       "      <td>18.050000</td>\n",
       "      <td>2002.000000</td>\n",
       "      <td>196.148350</td>\n",
       "      <td>0.107697</td>\n",
       "      <td>3207.638400</td>\n",
       "    </tr>\n",
       "    <tr>\n",
       "      <th>max</th>\n",
       "      <td>22.650000</td>\n",
       "      <td>2007.000000</td>\n",
       "      <td>277.188400</td>\n",
       "      <td>0.341391</td>\n",
       "      <td>13199.964800</td>\n",
       "    </tr>\n",
       "  </tbody>\n",
       "</table>\n",
       "</div>"
      ],
      "text/plain": [
       "       Counterfeit_Weight  Active_Since  Medicine_MRP  Availability_rating  \\\n",
       "count         5652.000000   6818.000000   6818.000000          6818.000000   \n",
       "mean            14.115057   1995.836316    151.401518             0.079174   \n",
       "std              4.649668      8.368979     62.203961             0.051481   \n",
       "min              5.855000   1983.000000     41.790000             0.013000   \n",
       "25%              9.995000   1985.000000    104.509400             0.040058   \n",
       "50%             13.800000   1997.000000    153.195700             0.066955   \n",
       "75%             18.050000   2002.000000    196.148350             0.107697   \n",
       "max             22.650000   2007.000000    277.188400             0.341391   \n",
       "\n",
       "       Counterfeit_Sales  \n",
       "count        6818.000000  \n",
       "mean         2280.583480  \n",
       "std          1693.354404  \n",
       "min           146.290000  \n",
       "25%           933.265600  \n",
       "50%          1902.670400  \n",
       "75%          3207.638400  \n",
       "max         13199.964800  "
      ]
     },
     "execution_count": 170,
     "metadata": {},
     "output_type": "execute_result"
    }
   ],
   "source": [
    "cf_train.describe()"
   ]
  },
  {
   "cell_type": "code",
   "execution_count": 171,
   "metadata": {},
   "outputs": [
    {
     "data": {
      "text/html": [
       "<div>\n",
       "<style scoped>\n",
       "    .dataframe tbody tr th:only-of-type {\n",
       "        vertical-align: middle;\n",
       "    }\n",
       "\n",
       "    .dataframe tbody tr th {\n",
       "        vertical-align: top;\n",
       "    }\n",
       "\n",
       "    .dataframe thead th {\n",
       "        text-align: right;\n",
       "    }\n",
       "</style>\n",
       "<table border=\"1\" class=\"dataframe\">\n",
       "  <thead>\n",
       "    <tr style=\"text-align: right;\">\n",
       "      <th></th>\n",
       "      <th>Counterfeit_Weight</th>\n",
       "      <th>Active_Since</th>\n",
       "      <th>Medicine_MRP</th>\n",
       "      <th>Availability_rating</th>\n",
       "    </tr>\n",
       "  </thead>\n",
       "  <tbody>\n",
       "    <tr>\n",
       "      <th>count</th>\n",
       "      <td>1408.000000</td>\n",
       "      <td>1705.000000</td>\n",
       "      <td>1705.000000</td>\n",
       "      <td>1705.000000</td>\n",
       "    </tr>\n",
       "    <tr>\n",
       "      <th>mean</th>\n",
       "      <td>14.328604</td>\n",
       "      <td>1995.814076</td>\n",
       "      <td>150.857964</td>\n",
       "      <td>0.078963</td>\n",
       "    </tr>\n",
       "    <tr>\n",
       "      <th>std</th>\n",
       "      <td>4.616129</td>\n",
       "      <td>8.385310</td>\n",
       "      <td>62.575018</td>\n",
       "      <td>0.052076</td>\n",
       "    </tr>\n",
       "    <tr>\n",
       "      <th>min</th>\n",
       "      <td>5.855000</td>\n",
       "      <td>1983.000000</td>\n",
       "      <td>41.590000</td>\n",
       "      <td>0.013000</td>\n",
       "    </tr>\n",
       "    <tr>\n",
       "      <th>25%</th>\n",
       "      <td>10.300000</td>\n",
       "      <td>1985.000000</td>\n",
       "      <td>102.880400</td>\n",
       "      <td>0.039831</td>\n",
       "    </tr>\n",
       "    <tr>\n",
       "      <th>50%</th>\n",
       "      <td>14.300000</td>\n",
       "      <td>1997.000000</td>\n",
       "      <td>153.715400</td>\n",
       "      <td>0.066693</td>\n",
       "    </tr>\n",
       "    <tr>\n",
       "      <th>75%</th>\n",
       "      <td>18.300000</td>\n",
       "      <td>2002.000000</td>\n",
       "      <td>195.389800</td>\n",
       "      <td>0.107220</td>\n",
       "    </tr>\n",
       "    <tr>\n",
       "      <th>max</th>\n",
       "      <td>22.650000</td>\n",
       "      <td>2007.000000</td>\n",
       "      <td>277.188400</td>\n",
       "      <td>0.324090</td>\n",
       "    </tr>\n",
       "  </tbody>\n",
       "</table>\n",
       "</div>"
      ],
      "text/plain": [
       "       Counterfeit_Weight  Active_Since  Medicine_MRP  Availability_rating\n",
       "count         1408.000000   1705.000000   1705.000000          1705.000000\n",
       "mean            14.328604   1995.814076    150.857964             0.078963\n",
       "std              4.616129      8.385310     62.575018             0.052076\n",
       "min              5.855000   1983.000000     41.590000             0.013000\n",
       "25%             10.300000   1985.000000    102.880400             0.039831\n",
       "50%             14.300000   1997.000000    153.715400             0.066693\n",
       "75%             18.300000   2002.000000    195.389800             0.107220\n",
       "max             22.650000   2007.000000    277.188400             0.324090"
      ]
     },
     "execution_count": 171,
     "metadata": {},
     "output_type": "execute_result"
    }
   ],
   "source": [
    "cf_test.describe()"
   ]
  },
  {
   "cell_type": "code",
   "execution_count": 172,
   "metadata": {},
   "outputs": [],
   "source": [
    "del cf_train['DistArea_ID']\n",
    "del cf_test['DistArea_ID']\n",
    "del cf_train['Medicine_ID']\n",
    "del cf_test['Medicine_ID']"
   ]
  },
  {
   "cell_type": "code",
   "execution_count": 173,
   "metadata": {},
   "outputs": [],
   "source": [
    "cf_train[\"Counterfeit_Weight\"]=np.where(pd.isnull(cf_train[\"Counterfeit_Weight\"]),14,cf_train['Counterfeit_Weight'])"
   ]
  },
  {
   "cell_type": "code",
   "execution_count": 174,
   "metadata": {},
   "outputs": [],
   "source": [
    "cf_test[\"Counterfeit_Weight\"]=np.where(pd.isnull(cf_test[\"Counterfeit_Weight\"]),14,cf_test['Counterfeit_Weight'])"
   ]
  },
  {
   "cell_type": "code",
   "execution_count": 175,
   "metadata": {},
   "outputs": [
    {
     "data": {
      "text/plain": [
       "Counterfeit_Weight     0\n",
       "Active_Since           0\n",
       "Medicine_MRP           0\n",
       "Medicine_Type          0\n",
       "SidEffect_Level        0\n",
       "Availability_rating    0\n",
       "Area_Type              0\n",
       "Area_City_Type         0\n",
       "Area_dist_level        0\n",
       "Counterfeit_Sales      0\n",
       "dtype: int64"
      ]
     },
     "execution_count": 175,
     "metadata": {},
     "output_type": "execute_result"
    }
   ],
   "source": [
    "cf_train.isnull().sum()"
   ]
  },
  {
   "cell_type": "code",
   "execution_count": 176,
   "metadata": {},
   "outputs": [
    {
     "name": "stdout",
     "output_type": "stream",
     "text": [
      "Medicine_Type : 16\n",
      "SidEffect_Level : 2\n",
      "Area_Type : 4\n",
      "Area_City_Type : 3\n",
      "Area_dist_level : 4\n"
     ]
    }
   ],
   "source": [
    "for col in cf_train.select_dtypes(['object']).columns:\n",
    "    print(col,':',cf_train[col].nunique())"
   ]
  },
  {
   "cell_type": "code",
   "execution_count": 177,
   "metadata": {},
   "outputs": [],
   "source": [
    "for col in ['Medicine_Type','SidEffect_Level','Area_Type','Area_City_Type','Area_dist_level']:\n",
    "    \n",
    "    temp=pd.get_dummies(cf_train[col],prefix=col,drop_first=True)\n",
    "    cf_train=pd.concat([temp,cf_train],1)\n",
    "    cf_train.drop([col],1,inplace=True)\n"
   ]
  },
  {
   "cell_type": "code",
   "execution_count": 178,
   "metadata": {},
   "outputs": [],
   "source": [
    "for col in ['Medicine_Type','SidEffect_Level','Area_Type','Area_City_Type','Area_dist_level']:\n",
    "    \n",
    "    temp=pd.get_dummies(cf_test[col],prefix=col,drop_first=True)\n",
    "    cf_test=pd.concat([temp,cf_test],1)\n",
    "    cf_test.drop([col],1,inplace=True)\n"
   ]
  },
  {
   "cell_type": "code",
   "execution_count": 179,
   "metadata": {
    "scrolled": true
   },
   "outputs": [
    {
     "data": {
      "text/plain": [
       "Area_dist_level_Medium                uint8\n",
       "Area_dist_level_Small                 uint8\n",
       "Area_dist_level_Unknown               uint8\n",
       "Area_City_Type_Tier 2                 uint8\n",
       "Area_City_Type_Tier 3                 uint8\n",
       "Area_Type_DownTown                    uint8\n",
       "Area_Type_Industrial                  uint8\n",
       "Area_Type_MidTownResidential          uint8\n",
       "SidEffect_Level_mild                  uint8\n",
       "Medicine_Type_Antacids                uint8\n",
       "Medicine_Type_Antibiotics             uint8\n",
       "Medicine_Type_Antifungal              uint8\n",
       "Medicine_Type_Antimalarial            uint8\n",
       "Medicine_Type_Antipyretics            uint8\n",
       "Medicine_Type_Antiseptics             uint8\n",
       "Medicine_Type_Antiviral               uint8\n",
       "Medicine_Type_Cardiac                 uint8\n",
       "Medicine_Type_Hreplacements           uint8\n",
       "Medicine_Type_Mstablizers             uint8\n",
       "Medicine_Type_MuscleRelaxants         uint8\n",
       "Medicine_Type_OralContraceptives      uint8\n",
       "Medicine_Type_Statins                 uint8\n",
       "Medicine_Type_Stimulants              uint8\n",
       "Medicine_Type_Tranquilizers           uint8\n",
       "Counterfeit_Weight                  float64\n",
       "Active_Since                          int64\n",
       "Medicine_MRP                        float64\n",
       "Availability_rating                 float64\n",
       "Counterfeit_Sales                   float64\n",
       "dtype: object"
      ]
     },
     "execution_count": 179,
     "metadata": {},
     "output_type": "execute_result"
    }
   ],
   "source": [
    "cf_train.dtypes"
   ]
  },
  {
   "cell_type": "code",
   "execution_count": 180,
   "metadata": {},
   "outputs": [],
   "source": [
    "for col in ['Active_Since']:\n",
    "    \n",
    "    temp=pd.get_dummies(cf_train[col],prefix=col,drop_first=True)\n",
    "    cf_train=pd.concat([temp,cf_train],1)\n",
    "    cf_train.drop([col],1,inplace=True)"
   ]
  },
  {
   "cell_type": "code",
   "execution_count": 181,
   "metadata": {},
   "outputs": [],
   "source": [
    "for col in ['Active_Since']:\n",
    "    \n",
    "    temp=pd.get_dummies(cf_test[col],prefix=col,drop_first=True)\n",
    "    cf_test=pd.concat([temp,cf_test],1)\n",
    "    cf_test.drop([col],1,inplace=True)"
   ]
  },
  {
   "cell_type": "code",
   "execution_count": 182,
   "metadata": {},
   "outputs": [],
   "source": [
    "cf1_train,cf1_test=train_test_split(cf_train,test_size=0.2,random_state=2)"
   ]
  },
  {
   "cell_type": "code",
   "execution_count": 183,
   "metadata": {},
   "outputs": [
    {
     "data": {
      "text/plain": [
       "Active_Since_1985                     uint8\n",
       "Active_Since_1995                     uint8\n",
       "Active_Since_1996                     uint8\n",
       "Active_Since_1997                     uint8\n",
       "Active_Since_2000                     uint8\n",
       "Active_Since_2002                     uint8\n",
       "Active_Since_2005                     uint8\n",
       "Active_Since_2007                     uint8\n",
       "Area_dist_level_Medium                uint8\n",
       "Area_dist_level_Small                 uint8\n",
       "Area_dist_level_Unknown               uint8\n",
       "Area_City_Type_Tier 2                 uint8\n",
       "Area_City_Type_Tier 3                 uint8\n",
       "Area_Type_DownTown                    uint8\n",
       "Area_Type_Industrial                  uint8\n",
       "Area_Type_MidTownResidential          uint8\n",
       "SidEffect_Level_mild                  uint8\n",
       "Medicine_Type_Antacids                uint8\n",
       "Medicine_Type_Antibiotics             uint8\n",
       "Medicine_Type_Antifungal              uint8\n",
       "Medicine_Type_Antimalarial            uint8\n",
       "Medicine_Type_Antipyretics            uint8\n",
       "Medicine_Type_Antiseptics             uint8\n",
       "Medicine_Type_Antiviral               uint8\n",
       "Medicine_Type_Cardiac                 uint8\n",
       "Medicine_Type_Hreplacements           uint8\n",
       "Medicine_Type_Mstablizers             uint8\n",
       "Medicine_Type_MuscleRelaxants         uint8\n",
       "Medicine_Type_OralContraceptives      uint8\n",
       "Medicine_Type_Statins                 uint8\n",
       "Medicine_Type_Stimulants              uint8\n",
       "Medicine_Type_Tranquilizers           uint8\n",
       "Counterfeit_Weight                  float64\n",
       "Medicine_MRP                        float64\n",
       "Availability_rating                 float64\n",
       "Counterfeit_Sales                   float64\n",
       "dtype: object"
      ]
     },
     "execution_count": 183,
     "metadata": {},
     "output_type": "execute_result"
    }
   ],
   "source": [
    "cf_train.dtypes"
   ]
  },
  {
   "cell_type": "code",
   "execution_count": 184,
   "metadata": {},
   "outputs": [],
   "source": [
    "cf_train[\"Counterfeit_Weight\"]=pd.to_numeric(cf_train[\"Counterfeit_Weight\"],errors=\"coerce\")"
   ]
  },
  {
   "cell_type": "code",
   "execution_count": 185,
   "metadata": {},
   "outputs": [],
   "source": [
    "cf_test[\"Counterfeit_Weight\"]=pd.to_numeric(cf_test[\"Counterfeit_Weight\"],errors=\"coerce\")"
   ]
  },
  {
   "cell_type": "code",
   "execution_count": 186,
   "metadata": {},
   "outputs": [
    {
     "data": {
      "text/plain": [
       "Active_Since_1985                     uint8\n",
       "Active_Since_1995                     uint8\n",
       "Active_Since_1996                     uint8\n",
       "Active_Since_1997                     uint8\n",
       "Active_Since_2000                     uint8\n",
       "Active_Since_2002                     uint8\n",
       "Active_Since_2005                     uint8\n",
       "Active_Since_2007                     uint8\n",
       "Area_dist_level_Medium                uint8\n",
       "Area_dist_level_Small                 uint8\n",
       "Area_dist_level_Unknown               uint8\n",
       "Area_City_Type_Tier 2                 uint8\n",
       "Area_City_Type_Tier 3                 uint8\n",
       "Area_Type_DownTown                    uint8\n",
       "Area_Type_Industrial                  uint8\n",
       "Area_Type_MidTownResidential          uint8\n",
       "SidEffect_Level_mild                  uint8\n",
       "Medicine_Type_Antacids                uint8\n",
       "Medicine_Type_Antibiotics             uint8\n",
       "Medicine_Type_Antifungal              uint8\n",
       "Medicine_Type_Antimalarial            uint8\n",
       "Medicine_Type_Antipyretics            uint8\n",
       "Medicine_Type_Antiseptics             uint8\n",
       "Medicine_Type_Antiviral               uint8\n",
       "Medicine_Type_Cardiac                 uint8\n",
       "Medicine_Type_Hreplacements           uint8\n",
       "Medicine_Type_Mstablizers             uint8\n",
       "Medicine_Type_MuscleRelaxants         uint8\n",
       "Medicine_Type_OralContraceptives      uint8\n",
       "Medicine_Type_Statins                 uint8\n",
       "Medicine_Type_Stimulants              uint8\n",
       "Medicine_Type_Tranquilizers           uint8\n",
       "Counterfeit_Weight                  float64\n",
       "Medicine_MRP                        float64\n",
       "Availability_rating                 float64\n",
       "Counterfeit_Sales                   float64\n",
       "dtype: object"
      ]
     },
     "execution_count": 186,
     "metadata": {},
     "output_type": "execute_result"
    }
   ],
   "source": [
    "cf_train.dtypes"
   ]
  },
  {
   "cell_type": "code",
   "execution_count": 187,
   "metadata": {},
   "outputs": [],
   "source": [
    "ld_train, ld_test = train_test_split(cf_train, test_size = 0.2,random_state=2)"
   ]
  },
  {
   "cell_type": "code",
   "execution_count": 188,
   "metadata": {},
   "outputs": [],
   "source": [
    "import pandas as pd\n",
    "import math\n",
    "from sklearn.cross_validation import train_test_split\n",
    "from sklearn import tree\n",
    "import numpy as np\n",
    "from sklearn.cross_validation import KFold\n",
    "import matplotlib.pyplot as plt\n"
   ]
  },
  {
   "cell_type": "code",
   "execution_count": 189,
   "metadata": {},
   "outputs": [],
   "source": [
    "x_train=ld_train.drop([\"Counterfeit_Sales\"],1)\n",
    "y_train=ld_train[\"Counterfeit_Sales\"]\n",
    "x_test=ld_test.drop([\"Counterfeit_Sales\"],1)\n",
    "y_test=ld_test[\"Counterfeit_Sales\"]"
   ]
  },
  {
   "cell_type": "code",
   "execution_count": 190,
   "metadata": {},
   "outputs": [],
   "source": [
    "x_train.reset_index(drop=True,inplace=True)\n",
    "y_train.reset_index(drop=True,inplace=True)"
   ]
  },
  {
   "cell_type": "code",
   "execution_count": 191,
   "metadata": {},
   "outputs": [],
   "source": [
    "from sklearn.grid_search import GridSearchCV\n"
   ]
  },
  {
   "cell_type": "code",
   "execution_count": 192,
   "metadata": {
    "scrolled": true
   },
   "outputs": [
    {
     "name": "stdout",
     "output_type": "stream",
     "text": [
      "--- 61.983086347579956 seconds ---\n"
     ]
    }
   ],
   "source": [
    "import time\n",
    "start_time = time.time()\n",
    "\n",
    "param_grid1 = {'max_depth':list(range(2,81,50)),\n",
    "               'max_features':list(range(3,16,10)),\n",
    "               \"max_leaf_nodes\":list(range(10,50,35)),\n",
    "                'min_impurity_decrease':list(range(1,50,100)),\n",
    "               'presort':[True,False],\n",
    "               'random_state':[2,3,4,5,6,7],\n",
    "               \n",
    "               'min_samples_split':[2,3,4,5]}\n",
    "grid = GridSearchCV(tree.DecisionTreeRegressor(criterion=\"mse\",random_state=2),param_grid=param_grid1,cv=10)\n",
    "grid.fit(x_train,y_train)\n",
    "\n",
    "\n",
    "print(\"--- %s seconds ---\" % (time.time() - start_time))"
   ]
  },
  {
   "cell_type": "markdown",
   "metadata": {},
   "source": [
    "Line number 1,2 and 10 have nothing to do with run of your algorithm , we are putting it to time the runtime. For me as you can see it took around ~1 minutes. It will vary for you depending upon your RAM, and backgroun processes running when you are executing this on your machine."
   ]
  },
  {
   "cell_type": "code",
   "execution_count": 193,
   "metadata": {},
   "outputs": [
    {
     "name": "stdout",
     "output_type": "stream",
     "text": [
      "DecisionTreeRegressor(criterion='mse', max_depth=52, max_features=13,\n",
      "           max_leaf_nodes=45, min_impurity_decrease=1,\n",
      "           min_impurity_split=None, min_samples_leaf=1,\n",
      "           min_samples_split=2, min_weight_fraction_leaf=0.0,\n",
      "           presort=False, random_state=2, splitter='best')\n"
     ]
    }
   ],
   "source": [
    "print(grid.best_estimator_)"
   ]
  },
  {
   "cell_type": "markdown",
   "metadata": {},
   "source": [
    "We'll use this , in our final model as given below"
   ]
  },
  {
   "cell_type": "code",
   "execution_count": 194,
   "metadata": {},
   "outputs": [],
   "source": [
    "dtree=tree.DecisionTreeRegressor(criterion='mse', max_depth=52, max_features=13,\n",
    "           max_leaf_nodes=45, min_impurity_decrease=1,\n",
    "           min_impurity_split=None, min_samples_leaf=1,\n",
    "           min_samples_split=2, min_weight_fraction_leaf=0.0, presort=True,\n",
    "           random_state=2, splitter='best')"
   ]
  },
  {
   "cell_type": "code",
   "execution_count": 195,
   "metadata": {},
   "outputs": [
    {
     "data": {
      "text/plain": [
       "DecisionTreeRegressor(criterion='mse', max_depth=52, max_features=13,\n",
       "           max_leaf_nodes=45, min_impurity_decrease=1,\n",
       "           min_impurity_split=None, min_samples_leaf=1,\n",
       "           min_samples_split=2, min_weight_fraction_leaf=0.0, presort=True,\n",
       "           random_state=2, splitter='best')"
      ]
     },
     "execution_count": 195,
     "metadata": {},
     "output_type": "execute_result"
    }
   ],
   "source": [
    "dtree.fit(x_train,y_train)"
   ]
  },
  {
   "cell_type": "code",
   "execution_count": 196,
   "metadata": {},
   "outputs": [],
   "source": [
    "predicted=dtree.predict(x_test)"
   ]
  },
  {
   "cell_type": "code",
   "execution_count": 197,
   "metadata": {},
   "outputs": [],
   "source": [
    "residual=predicted-y_test"
   ]
  },
  {
   "cell_type": "code",
   "execution_count": 198,
   "metadata": {},
   "outputs": [
    {
     "data": {
      "text/plain": [
       "1155.1747729458507"
      ]
     },
     "execution_count": 198,
     "metadata": {},
     "output_type": "execute_result"
    }
   ],
   "source": [
    "rmse_dtree=np.sqrt(np.dot(residual,residual)/len(predicted))\n",
    "\n",
    "rmse_dtree"
   ]
  },
  {
   "cell_type": "code",
   "execution_count": 199,
   "metadata": {},
   "outputs": [],
   "source": [
    "from sklearn.metrics import mean_absolute_error\n",
    "%matplotlib inline\n",
    "\n",
    "mae=mean_absolute_error(y_test,predicted)"
   ]
  },
  {
   "cell_type": "code",
   "execution_count": 200,
   "metadata": {},
   "outputs": [
    {
     "data": {
      "text/plain": [
       "802.9225356915717"
      ]
     },
     "execution_count": 200,
     "metadata": {},
     "output_type": "execute_result"
    }
   ],
   "source": [
    "mae"
   ]
  },
  {
   "cell_type": "code",
   "execution_count": 201,
   "metadata": {},
   "outputs": [
    {
     "data": {
      "text/plain": [
       "0.30782540026588645"
      ]
     },
     "execution_count": 201,
     "metadata": {},
     "output_type": "execute_result"
    }
   ],
   "source": [
    "score=1-(mae)/1160\n",
    "score"
   ]
  },
  {
   "cell_type": "code",
   "execution_count": 202,
   "metadata": {},
   "outputs": [],
   "source": [
    "p=dtree.predict(cf_test)"
   ]
  },
  {
   "cell_type": "code",
   "execution_count": 203,
   "metadata": {},
   "outputs": [
    {
     "data": {
      "text/plain": [
       "array([1036.4690835 , 3774.39823768, 1426.85046474, ..., 3069.59803187,\n",
       "       3623.49708   , 3774.39823768])"
      ]
     },
     "execution_count": 203,
     "metadata": {},
     "output_type": "execute_result"
    }
   ],
   "source": [
    "p"
   ]
  },
  {
   "cell_type": "code",
   "execution_count": 204,
   "metadata": {},
   "outputs": [],
   "source": [
    "submission=pd.DataFrame(list(p),\n",
    "                       columns=['Counterfeit_Sales'])"
   ]
  },
  {
   "cell_type": "code",
   "execution_count": 205,
   "metadata": {},
   "outputs": [],
   "source": [
    "submission.to_csv('submission_final.csv',index=False)"
   ]
  },
  {
   "cell_type": "code",
   "execution_count": null,
   "metadata": {},
   "outputs": [],
   "source": []
  }
 ],
 "metadata": {
  "kernelspec": {
   "display_name": "Python 3",
   "language": "python",
   "name": "python3"
  },
  "language_info": {
   "codemirror_mode": {
    "name": "ipython",
    "version": 3
   },
   "file_extension": ".py",
   "mimetype": "text/x-python",
   "name": "python",
   "nbconvert_exporter": "python",
   "pygments_lexer": "ipython3",
   "version": "3.6.4"
  }
 },
 "nbformat": 4,
 "nbformat_minor": 2
}
